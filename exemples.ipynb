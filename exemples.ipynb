{
 "cells": [
  {
   "cell_type": "code",
   "execution_count": 29,
   "metadata": {},
   "outputs": [
    {
     "name": "stdout",
     "output_type": "stream",
     "text": [
      "['eng', 'osd']\n"
     ]
    }
   ],
   "source": [
    "from pytesseract import get_languages\n",
    "traineddata_path = \"./data\"\n",
    "\n",
    "# Donwloaded languages that i want to do OCR with\n",
    "print(get_languages(config= traineddata_path))"
   ]
  },
  {
   "cell_type": "code",
   "execution_count": 1,
   "metadata": {},
   "outputs": [
    {
     "data": {
      "text/plain": [
       "['images/recipes.png',\n",
       " 'images/wah_wah.png',\n",
       " 'images/links_markdown.png',\n",
       " 'images/alan.png']"
      ]
     },
     "execution_count": 1,
     "metadata": {},
     "output_type": "execute_result"
    }
   ],
   "source": [
    "import os\n",
    "\n",
    "image_path = \"images\"\n",
    "\n",
    "images = [os.path.sep.join([image_path, x]) for x in os.listdir(image_path)]\n",
    "\n",
    "images\n"
   ]
  },
  {
   "cell_type": "code",
   "execution_count": 2,
   "metadata": {},
   "outputs": [
    {
     "name": "stdout",
     "output_type": "stream",
     "text": [
      "images/wah_wah.png\n",
      "GEORGE HARRISON\n",
      "ALL THINGS MOST PASS.\n",
      "\n",
      "\n",
      "\n",
      "\n",
      "images/links_markdown.png\n",
      "Creating Links in Markdown\n",
      "\n",
      "Markdown syntax for a hyperlink is square brackets followed by parentheses. The square brackets\n",
      "hold the text, the parentheses hold the link.\n",
      "\n",
      "[Link text Here] (https: //Link-url-here.org)\n",
      "\n",
      "Internal Links\n",
      "\n",
      "For internal links (links to other AnVIL portal pages) we need to follow a few rules:\n",
      "\n",
      "1. Use the \"relative path\" to the page omitting the protocol and domain name. For example use /\n",
      "\n",
      "guides /content/creating-Links instead of https: //anvilproject .org/guides/content/creating-Links.\n",
      "2. For the link address use the path of the page in the site regardless of the location of the file in the\n",
      "repository.\n",
      "3. Do not use the .md suffix.\n",
      "\n",
      "4. Don't forget to start the path with a forward slash: /.\n",
      "Putting this all together an internal link looks like:\n",
      "[An Internal Link] (/guides/content/editing-an-existing-page)\n",
      "\n",
      "This renders as: An Internal Link\n",
      "\n",
      "\n",
      "\n",
      "images/alan.png\n",
      "\n",
      "\n",
      "\n"
     ]
    }
   ],
   "source": [
    "from PIL import Image\n",
    "\n",
    "import pytesseract\n",
    "for image in images:\n",
    "    print(image)\n",
    "    print(pytesseract.image_to_string(image))\n",
    "    print(\"\\n\")"
   ]
  },
  {
   "cell_type": "code",
   "execution_count": null,
   "metadata": {},
   "outputs": [],
   "source": [
    "\n",
    "for image in images:\n",
    "    print(image)\n",
    "    print(pytesseract.image_to_boxes(image))\n",
    "    print(\"\\n\")"
   ]
  },
  {
   "cell_type": "code",
   "execution_count": 2,
   "metadata": {},
   "outputs": [
    {
     "name": "stdout",
     "output_type": "stream",
     "text": [
      "images/recipes.png\n",
      "nada\n"
     ]
    },
    {
     "ename": "",
     "evalue": "",
     "output_type": "error",
     "traceback": [
      "\u001b[1;31mThe Kernel crashed while executing code in the current cell or a previous cell. \n",
      "\u001b[1;31mPlease review the code in the cell(s) to identify a possible cause of the failure. \n",
      "\u001b[1;31mClick <a href='https://aka.ms/vscodeJupyterKernelCrash'>here</a> for more info. \n",
      "\u001b[1;31mView Jupyter <a href='command:jupyter.viewOutput'>log</a> for further details."
     ]
    }
   ],
   "source": [
    "# Imports\n",
    "import cv2\n",
    "import numpy as np\n",
    "import os\n",
    "\n",
    "# Read image\n",
    "imagePath = images[0]\n",
    "print(imagePath)\n",
    "inputImage = cv2.imread(imagePath)\n",
    "\n",
    "# Convert BGR to grayscale:\n",
    "binaryImage = cv2.cvtColor(inputImage, cv2.COLOR_BGR2GRAY)\n",
    "# Invert image:\n",
    "binaryImage = 255 - binaryImage\n",
    "\n",
    "print(\"nada\")\n",
    "\n",
    "# Find the external contours on the binary image:\n",
    "contours, hierarchy = cv2.findContours(binaryImage, cv2.RETR_EXTERNAL, cv2.CHAIN_APPROX_SIMPLE)\n",
    "# Invert image:\n",
    "binaryImage = 255 - binaryImage\n",
    "\n",
    "# Look for the bounding boxes:\n",
    "for _, c in enumerate(contours):\n",
    "\n",
    "    # Get the contour's bounding rectangle:\n",
    "    boundRect = cv2.boundingRect(c)\n",
    "\n",
    "    # Get the dimensions of the bounding rect:\n",
    "    rectX = boundRect[0]\n",
    "    rectY = boundRect[1]\n",
    "    rectWidth = boundRect[2]\n",
    "    rectHeight = boundRect[3]\n",
    "\n",
    "    # Get Bounding Rectangle Area:\n",
    "    rectArea = rectWidth * rectHeight\n",
    "    # Set minimum area threshold:\n",
    "    minArea = 1000\n",
    "\n",
    "    # Check for minimum area:\n",
    "    if rectArea < minArea:\n",
    "        # Draw white rectangle to cover small contour:\n",
    "        cv2.rectangle(binaryImage, (rectX, rectY), (rectX + rectWidth, rectY + rectHeight),\n",
    "                        (255, 255, 255), -1)\n",
    "        cv2.imshow(\"Binary Mask\", binaryImage)\n",
    "        cv2.waitKey(0)\n"
   ]
  }
 ],
 "metadata": {
  "kernelspec": {
   "display_name": "env",
   "language": "python",
   "name": "python3"
  },
  "language_info": {
   "codemirror_mode": {
    "name": "ipython",
    "version": 3
   },
   "file_extension": ".py",
   "mimetype": "text/x-python",
   "name": "python",
   "nbconvert_exporter": "python",
   "pygments_lexer": "ipython3",
   "version": "3.12.3"
  }
 },
 "nbformat": 4,
 "nbformat_minor": 2
}
